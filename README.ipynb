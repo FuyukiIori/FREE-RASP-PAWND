{
 "cells": [
  {
   "cell_type": "markdown",
   "metadata": {},
   "source": [
    "# RASP-PAWND\n",
    "\n",
    "## Descrição\n",
    "\n",
    "O projeto **RASP-PANWD** tem como objetivo melhorar as defesas de aplicações contra diversas ameaças, incluindo:\n",
    "\n",
    "- **Debugging**: Protege a aplicação contra tentativas de depuração.\n",
    "- **Root**: Detecta e reage a dispositivos com acesso root.\n",
    "- **Hooking**: Impede a injeção de código malicioso na aplicação.\n",
    "- **Detecção de emuladores**: Identifica a execução em ambientes de emulação.\n",
    "- **Proteção de comunicação (SSL Pinning)**: Assegura que a comunicação com o servidor seja segura e confiável.\n",
    "\n",
    "Através da implementação de técnicas de segurança eficazes, buscamos garantir a integridade e a confidencialidade das aplicações em ambientes potencialmente comprometidos."
   ]
  },
  {
   "cell_type": "markdown",
   "metadata": {},
   "source": [
    "## Licença\n",
    "\n",
    "Este projeto é **open-source** e qualquer um que desejar modificá-lo e colocá-lo em prática está totalmente à vontade. \n",
    "\n",
    "**Nota**: O projeto não deve ser vendido como um produto pago. Para mais detalhes, consulte o arquivo [LICENSE.md]"
   ]
  },
  {
   "cell_type": "markdown",
   "metadata": {},
   "source": [
    "## Instalação\n",
    "\n",
    "Adicione a Biblioteca ao Projeto:\n",
    "\n",
    "Caso a biblioteca esteja hospedada em um repositório Maven/Gradle, adicione a dependência no arquivo build.gradle do módulo app do projeto Android:"
   ]
  },
  {
   "cell_type": "code",
   "execution_count": null,
   "metadata": {
    "vscode": {
     "languageId": "plaintext"
    }
   },
   "outputs": [],
   "source": [
    "dependencies {\n",
    "    implementation 'com.seu.pacote:raspbiblioteca:1.0.0'\n",
    "}"
   ]
  },
  {
   "cell_type": "markdown",
   "metadata": {},
   "source": [
    "Se você estiver compartilhando a biblioteca como um arquivo .aar ou .jar, coloque o arquivo dentro da pasta libs do projeto e adicione a linha abaixo no mesmo arquivo build.gradle:"
   ]
  },
  {
   "cell_type": "code",
   "execution_count": null,
   "metadata": {
    "vscode": {
     "languageId": "plaintext"
    }
   },
   "outputs": [],
   "source": [
    "dependencies {\n",
    "    implementation fileTree(dir: 'libs', include: ['*.aar', '*.jar'])\n",
    "}"
   ]
  },
  {
   "cell_type": "markdown",
   "metadata": {},
   "source": [
    "## Configurar o MainActivity:\n",
    "\n",
    "No arquivo MainActivity.java da aplicação que usará sua biblioteca, adicione o seguinte trecho de código para inicializar a classe HAUNTER e fazer a verificação de segurança com SSL Pinning:"
   ]
  },
  {
   "cell_type": "code",
   "execution_count": null,
   "metadata": {
    "vscode": {
     "languageId": "plaintext"
    }
   },
   "outputs": [],
   "source": [
    "import com.example.rasppanwd.HAUNTER;  // Importar a classe HAUNTER\n",
    "\n",
    "public class MainActivity extends AppCompatActivity {\n",
    "    @Override\n",
    "    protected void onCreate(Bundle savedInstanceState) {\n",
    "        super.onCreate(savedInstanceState);\n",
    "        setContentView(R.layout.activity_main);\n",
    "\n",
    "        // Inicializar a proteção RASP\n",
    "        HAUNTER haunter = new HAUNTER();\n",
    "        haunter.initialize(this, \"Google.com\", \"09de8becb25775011d23b783f0a24cb87a56b36a427ce8d11b419232f3f754a5\");\n",
    "    }\n",
    "}"
   ]
  },
  {
   "cell_type": "markdown",
   "metadata": {},
   "source": [
    "Parâmetros da função initialize:\n",
    "\n",
    "this: O contexto da MainActivity que será passado para a classe.\n",
    "\"Google.com\": O domínio para o qual o SSL Pinning será aplicado.\n",
    "\"09de8becb25775011d23b783f0a24cb87a56b36a427ce8d11b419232f3f754a5\": O hash esperado do certificado do domínio.\n",
    "\n",
    "OBS: É extritamente necessario a mudança do nome de **domio** e **hash** (coloque as informções de sua aplicação)"
   ]
  },
  {
   "cell_type": "markdown",
   "metadata": {},
   "source": [
    "Permissões e Configurações (Opcional):\n",
    "\n",
    "Se sua biblioteca ou suas implementações necessitarem de permissões específicas ou modificações no AndroidManifest.xml, explique os detalhes aqui, por exemplo:"
   ]
  },
  {
   "cell_type": "code",
   "execution_count": null,
   "metadata": {
    "vscode": {
     "languageId": "plaintext"
    }
   },
   "outputs": [],
   "source": [
    "<uses-permission android:name=\"android.permission.INTERNET\" />"
   ]
  },
  {
   "cell_type": "markdown",
   "metadata": {},
   "source": [
    "Compile e Execute o Projeto:\n",
    "\n",
    "Após adicionar a biblioteca e o código de inicialização no MainActivity, compile o projeto e execute-o em um dispositivo ou emulador Android.\n",
    "\n",
    "**Dica Extra**\n",
    "Informe que, caso o SSL Pinning ou qualquer outra verificação de segurança falhe, o aplicativo poderá ser encerrado, bloqueado, ou a tela de alerta será mostrada."
   ]
  }
 ],
 "metadata": {
  "language_info": {
   "name": "python"
  }
 },
 "nbformat": 4,
 "nbformat_minor": 2
}
